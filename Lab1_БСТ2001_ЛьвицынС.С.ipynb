{
 "cells": [
  {
   "cell_type": "markdown",
   "id": "716b1a07",
   "metadata": {},
   "source": [
    "# Лабораторная работа №1\n",
    "## Выполнил студент группы БСТ2001 Львицын С.С\n",
    "\n",
    "### Задание 1\n",
    "Заполнить оглавление и вывести надпись \"Hello, World!\""
   ]
  },
  {
   "cell_type": "code",
   "execution_count": 2,
   "id": "63ab12ca",
   "metadata": {},
   "outputs": [
    {
     "name": "stdout",
     "output_type": "stream",
     "text": [
      "Hello, World!\n"
     ]
    }
   ],
   "source": [
    "print(\"Hello, World!\")"
   ]
  },
  {
   "cell_type": "markdown",
   "id": "6699579a",
   "metadata": {},
   "source": [
    "### Задание 2\n",
    "Написать генератор случайных матриц(многомерных), который принимает опциональные параметры m, n, min_limit, max_limit, где m и n указывают размер матрицы, а min_lim и max_lim - минимальное и максимальное значение для генерируемого числа ."
   ]
  },
  {
   "cell_type": "code",
   "execution_count": 7,
   "id": "c8a7ecbd",
   "metadata": {
    "scrolled": true
   },
   "outputs": [
    {
     "name": "stdout",
     "output_type": "stream",
     "text": [
      "Введите кол-во столбцов: 5\n",
      "Введите кол-во строк: 5\n",
      "Введите минимальное значение числа: 1\n",
      "Введите максимальное значение числа: 10\n",
      "[6, 2, 2, 2, 10]\n",
      "[1, 8, 4, 2, 10]\n",
      "[1, 6, 6, 5, 1]\n",
      "[7, 3, 3, 1, 7]\n",
      "[8, 8, 7, 10, 8]\n"
     ]
    }
   ],
   "source": [
    "import random\n",
    "\n",
    "x = input(\"Введите кол-во столбцов: \", )\n",
    "if x == \"\":\n",
    "    m = 50\n",
    "else:\n",
    "    m = int(x)\n",
    "\n",
    "y = input(\"Введите кол-во строк: \", )\n",
    "if y == \"\":\n",
    "    n = 50\n",
    "else:\n",
    "    n = int(y)\n",
    "\n",
    "minl = input(\"Введите минимальное значение числа: \", )\n",
    "if minl == \"\":\n",
    "    min_limit = -250\n",
    "else:\n",
    "    min_limit = int(minl)\n",
    "\n",
    "maxl = input(\"Введите максимальное значение числа: \", )\n",
    "if maxl == \"\":\n",
    "    max_limit = 1014\n",
    "else:\n",
    "    max_limit = int(maxl)\n",
    "    \n",
    "if min_limit >= max_limit:\n",
    "    print(\"Минимальное не может быть больше максимального\")\n",
    "    min_limit = -250\n",
    "    max_limit = 1014\n",
    "arr=[]\n",
    "arr = [[random.randint(min_limit, max_limit) for j in range(m)] for i in range(n) ]\n",
    "for numeric in range(n):\n",
    "    print(arr[numeric])"
   ]
  },
  {
   "cell_type": "markdown",
   "id": "798364a1",
   "metadata": {},
   "source": [
    "### Задание 3\n",
    "Реализовать методы сортировки строк числовой матрицы в соответствии с заданием. Оценить время работы каждого алгоритма сортировки и сравнить его со временем стандартной функции сортировки."
   ]
  },
  {
   "cell_type": "markdown",
   "id": "015b11db",
   "metadata": {},
   "source": [
    "## Сортировка выбором"
   ]
  },
  {
   "cell_type": "code",
   "execution_count": 1,
   "id": "a1d84717",
   "metadata": {
    "scrolled": true
   },
   "outputs": [
    {
     "name": "stdout",
     "output_type": "stream",
     "text": [
      "[3, 1, 7, 17, 9, 6, 14, 12, 16, 9]\n",
      "[1, 3, 6, 7, 9, 9, 12, 14, 16, 17]\n",
      "Сортировка выбором 0.00042949999988195486\n"
     ]
    }
   ],
   "source": [
    "import random\n",
    "import timeit\n",
    "\n",
    "N = 10\n",
    "arr = []\n",
    "for i in range(N):\n",
    "    arr.append(random.randint(1, 20))\n",
    "print(arr)\n",
    "a=[]\n",
    "def sel_sort(array): #Сортировка выбором\n",
    "    for i in range(len(array) - 1):\n",
    "        m = i\n",
    "        j = i + 1\n",
    "        while j < len(array):\n",
    "            if array[j] < array[m]:\n",
    "                m = j\n",
    "            j = j + 1\n",
    "        array[i], array[m] = array[m], array[i]\n",
    "start_time = timeit.default_timer()\n",
    "a = arr\n",
    "sel_sort(a)\n",
    "print(a)\n",
    "print(\"Сортировка выбором \" + str(timeit.default_timer()-start_time))"
   ]
  },
  {
   "cell_type": "markdown",
   "id": "bdf34450",
   "metadata": {},
   "source": [
    "## Сортировка вставкой"
   ]
  },
  {
   "cell_type": "code",
   "execution_count": 2,
   "id": "35aabe8e",
   "metadata": {},
   "outputs": [
    {
     "name": "stdout",
     "output_type": "stream",
     "text": [
      "[5, 10, 20, 3, 1, 2, 7, 3, 14, 11]\n",
      "[1, 2, 3, 3, 5, 7, 10, 11, 14, 20]\n",
      "Сортировка вставкой 0.0001824000000851811\n"
     ]
    }
   ],
   "source": [
    "import random\n",
    "import timeit\n",
    "\n",
    "N = 10\n",
    "arr1 = []\n",
    "for i in range(N):\n",
    "    arr1.append(random.randint(1, 20))\n",
    "print(arr1)\n",
    "b=[]\n",
    "def ins_sort(array): #Сортировка вставкой\n",
    "        for i in range(1, len(array)): \n",
    "            value = array[i] \n",
    "            j = i - 1 \n",
    "            while j >= 0 and value < array[j]: \n",
    "                array[j + 1] = array[j] \n",
    "                j -= 1 \n",
    "            array[j + 1] = value \n",
    "        return array \n",
    "start_time = timeit.default_timer()\n",
    "b=arr1\n",
    "print(ins_sort(b))\n",
    "print(\"Сортировка вставкой \" + str(timeit.default_timer()-start_time))"
   ]
  },
  {
   "cell_type": "markdown",
   "id": "79ebfba0",
   "metadata": {},
   "source": [
    "## Сортировка обменом"
   ]
  },
  {
   "cell_type": "code",
   "execution_count": 3,
   "id": "4e709b2e",
   "metadata": {},
   "outputs": [
    {
     "name": "stdout",
     "output_type": "stream",
     "text": [
      "[10, 8, 18, 14, 5, 13, 5, 7, 14, 6]\n",
      "[5, 5, 6, 7, 8, 10, 13, 14, 14, 18]\n",
      "Сортировка обменом 0.00030379999998331186\n"
     ]
    }
   ],
   "source": [
    "import random\n",
    "import timeit\n",
    "\n",
    "N = 10\n",
    "arr2 = []\n",
    "for i in range(N):\n",
    "    arr2.append(random.randint(1, 20))\n",
    "print(arr2)\n",
    "c = []\n",
    "def bub_sort(nums): #Сортировка обменом\n",
    "    swapped = True\n",
    "    while swapped:\n",
    "        swapped = False\n",
    "        for i in range(len(nums) - 1):\n",
    "            if nums[i] > nums[i + 1]:\n",
    "                nums[i], nums[i + 1] = nums[i + 1], nums[i]\n",
    "                swapped = True\n",
    "start_time = timeit.default_timer()\n",
    "c = arr2\n",
    "bub_sort(c)\n",
    "print(c)\n",
    "print(\"Сортировка обменом \" + str(timeit.default_timer()-start_time))"
   ]
  },
  {
   "cell_type": "markdown",
   "id": "78bcaa70",
   "metadata": {},
   "source": [
    "## Сортировка шелла"
   ]
  },
  {
   "cell_type": "code",
   "execution_count": 4,
   "id": "2e95f76c",
   "metadata": {},
   "outputs": [
    {
     "name": "stdout",
     "output_type": "stream",
     "text": [
      "[2, 14, 5, 20, 7, 5, 8, 11, 16, 2]\n",
      "[2, 2, 5, 5, 7, 8, 11, 14, 16, 20]\n",
      "Сортировка шелла 0.00021569999989878852\n"
     ]
    }
   ],
   "source": [
    "import random\n",
    "import timeit\n",
    "\n",
    "N = 10\n",
    "arr3 = []\n",
    "for i in range(N):\n",
    "    arr3.append(random.randint(1, 20))\n",
    "print(arr3)\n",
    "d = []\n",
    "def shell(seq): #Сортировка шелла\n",
    "    inc = len(seq) // 2\n",
    "    while inc:\n",
    "        for i, el in enumerate(seq):\n",
    "            while i >= inc and seq[i - inc] > el:\n",
    "                seq[i] = seq[i - inc]\n",
    "                i -= inc\n",
    "            seq[i] = el\n",
    "        inc = 1 if inc == 2 else int(inc * 5.0 / 11)\n",
    "start_time = timeit.default_timer()\n",
    "d = arr3\n",
    "shell(d)\n",
    "print(d)\n",
    "print(\"Сортировка шелла \" + str(timeit.default_timer()-start_time))"
   ]
  },
  {
   "cell_type": "markdown",
   "id": "d6fd7cb6",
   "metadata": {},
   "source": [
    "## Быстрая сортировка"
   ]
  },
  {
   "cell_type": "code",
   "execution_count": 5,
   "id": "06da83d0",
   "metadata": {},
   "outputs": [
    {
     "name": "stdout",
     "output_type": "stream",
     "text": [
      "[6, 14, 14, 14, 20, 6, 4, 19, 6, 10]\n",
      "[4, 6, 6, 6, 10, 14, 14, 14, 19, 20]\n",
      "Быстрая сортировка 0.00022800000010647636\n"
     ]
    }
   ],
   "source": [
    "import random\n",
    "import timeit\n",
    "\n",
    "N = 10\n",
    "arr4 = []\n",
    "for i in range(N):\n",
    "    arr4.append(random.randint(1, 20))\n",
    "print(arr4)\n",
    "f = []\n",
    "def quick(data): #Быстрая сортировка\n",
    "    less = []\n",
    "    pivotList = []\n",
    "    more = []\n",
    "    if len(data) <= 1:\n",
    "        return data\n",
    "    else:\n",
    "        pivot = data[0]\n",
    "        for i in data:\n",
    "            if i < pivot:\n",
    "                less.append(i)\n",
    "            elif i > pivot:\n",
    "                more.append(i)\n",
    "            else:\n",
    "                pivotList.append(i)\n",
    "        less = quick(less)\n",
    "        more = quick(more)\n",
    "        return less + pivotList + more\n",
    "start_time = timeit.default_timer()\n",
    "f = arr4\n",
    "quick(f)\n",
    "print(quick(f))\n",
    "print(\"Быстрая сортировка \" + str(timeit.default_timer()-start_time))"
   ]
  },
  {
   "cell_type": "markdown",
   "id": "5cd7faec",
   "metadata": {},
   "source": [
    "## Пирамидальная сортировка"
   ]
  },
  {
   "cell_type": "code",
   "execution_count": 6,
   "id": "07b743c7",
   "metadata": {},
   "outputs": [
    {
     "name": "stdout",
     "output_type": "stream",
     "text": [
      "[18, 15, 14, 15, 4, 10, 14, 5, 5, 8]\n",
      "[4, 5, 5, 8, 10, 14, 14, 15, 15, 18]\n",
      "Сортировка пирамидальная 0.0007781000001614302\n"
     ]
    }
   ],
   "source": [
    "import random\n",
    "import timeit\n",
    "\n",
    "N = 10\n",
    "arr5 = []\n",
    "for i in range(N):\n",
    "    arr5.append(random.randint(1, 20))\n",
    "print(arr5)\n",
    "g = []\n",
    "def heapsort(alist): #Пирамидальная сортировка\n",
    "    build_max_heap(alist)\n",
    "    for i in range(len(alist) - 1, 0, -1):\n",
    "        alist[0], alist[i] = alist[i], alist[0]\n",
    "        max_heapify(alist, index=0, size=i)\n",
    "def parent(i):\n",
    "    return (i - 1)//2\n",
    "def left(i):\n",
    "    return 2*i + 1\n",
    "def right(i):\n",
    "    return 2*i + 2\n",
    "def build_max_heap(alist):\n",
    "    length = len(alist)\n",
    "    start = parent(length - 1)\n",
    "    while start >= 0:\n",
    "        max_heapify(alist, index=start, size=length)\n",
    "        start = start - 1\n",
    "def max_heapify(alist, index, size):\n",
    "    l = left(index)\n",
    "    r = right(index)\n",
    "    if (l < size and alist[l] > alist[index]):\n",
    "        largest = l\n",
    "    else:\n",
    "        largest = index\n",
    "    if (r < size and alist[r] > alist[largest]):\n",
    "        largest = r\n",
    "    if (largest != index):\n",
    "        alist[largest], alist[index] = alist[index], alist[largest]\n",
    "        max_heapify(alist, largest, size)\n",
    "start_time = timeit.default_timer()\n",
    "g = arr5\n",
    "heapsort(g)\n",
    "print(g)\n",
    "print(\"Сортировка пирамидальная \" + str(timeit.default_timer()-start_time))"
   ]
  },
  {
   "cell_type": "markdown",
   "id": "84f5f868",
   "metadata": {},
   "source": [
    "## Встроенная сортировка"
   ]
  },
  {
   "cell_type": "code",
   "execution_count": 8,
   "id": "2b3d65f5",
   "metadata": {
    "scrolled": true
   },
   "outputs": [
    {
     "name": "stdout",
     "output_type": "stream",
     "text": [
      "[9, 12, 5, 17, 15, 4, 7, 2, 4, 10]\n",
      "[4, 5, 5, 8, 10, 14, 14, 15, 15, 18]\n",
      "Встроенная сортировка 0.0003022999999302556\n"
     ]
    }
   ],
   "source": [
    "import random\n",
    "import timeit\n",
    "\n",
    "N = 10\n",
    "arr6 = []\n",
    "for i in range(N):\n",
    "    arr6.append(random.randint(1, 20))\n",
    "print(arr6)\n",
    "h = []\n",
    "h = arr6\n",
    "start_time = timeit.default_timer()\n",
    "h.sort() #Встроенная сортировка\n",
    "print(g)\n",
    "print(\"Встроенная сортировка \" + str(timeit.default_timer()-start_time))"
   ]
  }
 ],
 "metadata": {
  "kernelspec": {
   "display_name": "Python 3 (ipykernel)",
   "language": "python",
   "name": "python3"
  },
  "language_info": {
   "codemirror_mode": {
    "name": "ipython",
    "version": 3
   },
   "file_extension": ".py",
   "mimetype": "text/x-python",
   "name": "python",
   "nbconvert_exporter": "python",
   "pygments_lexer": "ipython3",
   "version": "3.9.7"
  }
 },
 "nbformat": 4,
 "nbformat_minor": 5
}
